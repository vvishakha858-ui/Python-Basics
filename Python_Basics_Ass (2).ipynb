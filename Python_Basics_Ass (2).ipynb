{
  "nbformat": 4,
  "nbformat_minor": 0,
  "metadata": {
    "colab": {
      "provenance": []
    },
    "kernelspec": {
      "name": "python3",
      "display_name": "Python 3"
    },
    "language_info": {
      "name": "python"
    }
  },
  "cells": [
    {
      "cell_type": "markdown",
      "source": [
        "    PYTHON BASICS\n",
        "\n",
        " 1- What is Python, and why is it popular?\n",
        " - Python is a high-level , easy to understand interpreted programming language. it's used for web development , Data Science, Artificial intelligence and more.\n",
        "  Python is popular because it is simple  , versatile and offers a large library for fast development.   "
      ],
      "metadata": {
        "id": "yeS77JIUBKds"
      }
    },
    {
      "cell_type": "markdown",
      "source": [
        " 2- What is an interpreter in Python?\n",
        " -   Interpreter in Python is a program that reads and runs the python code line by line . It translates the code into machine language so the computer can understand and execute it.\n",
        "\n",
        "  "
      ],
      "metadata": {
        "id": "KEwTasnNFa5W"
      }
    },
    {
      "cell_type": "markdown",
      "source": [
        "3- What are pre-defined keywords in Python?\n",
        "-  Pre-defined Keywords in Python are special reserved words that have specific meanings and purposes in the language. you can not use them as veriable names, like- if, else, for, while etc."
      ],
      "metadata": {
        "id": "6--z1iHsHBS6"
      }
    },
    {
      "cell_type": "markdown",
      "source": [
        "4- Can keywords be used as variable names?\n",
        "-   NO, Keywords can not be used as variable names , Because they are reserved words with special meaning."
      ],
      "metadata": {
        "id": "YjtC1sDeYbcr"
      }
    },
    {
      "cell_type": "markdown",
      "source": [
        " 5- What is mutability in Python?\n",
        " -  Mutability refers to whether or not an object's value can be changeed  after it is created. there is 2 type of mutability-\n",
        "  \n",
        "\n",
        "1.  Mutable -  their values can be changed (e.g. list,dict, set)\n",
        "2.  Immutable -  their values can not be changed (e.g. int, flot, str,bool)\n",
        "\n"
      ],
      "metadata": {
        "id": "qCHI4V1EZUAB"
      }
    },
    {
      "cell_type": "markdown",
      "source": [
        "6- Why are lists mutable, but tuples are immutable?\n",
        "-  Lists are mutable because they are designed to store dynamic data. you can add, remove or change elements in a list after it is created.\n",
        "   Tuples are immutable because they are meant to store fixed, constant data. once a tuple is created, its elements can not be changed.\n",
        "\n",
        "\n",
        "\n"
      ],
      "metadata": {
        "id": "amY5A-htcW5E"
      }
    },
    {
      "cell_type": "markdown",
      "source": [
        "7- What is the difference between “==” and “is” operators in Python?\n",
        "-   \"==\" (Equality Operetor) checks if values of two variables are equal. \"is\" (Identity Operetor) checks if two variables refer to the same object in memory. Use \"==\" for value comparison and \"is\" for memory comparison.\n"
      ],
      "metadata": {
        "id": "jmDtx1U_jzkF"
      }
    },
    {
      "cell_type": "markdown",
      "source": [
        "8-  What are logical operators in Python?\n",
        "-    Logical Operators are used to combine conditional statments in python.\n",
        "\n",
        "     *   and- True if both conditions are true. ex:  x > 5 and x < 10\n",
        "     *   or - True if at least one condition is true. ex: x > 5 or x < 3\n",
        "\n",
        "    *   not- reverses contition ex: not(x>5)\n",
        "\n",
        "\n",
        "\n",
        "\n",
        "\n"
      ],
      "metadata": {
        "id": "3Rc11OfAl3jL"
      }
    },
    {
      "cell_type": "markdown",
      "source": [],
      "metadata": {
        "id": "7jeZcGnho9Sz"
      }
    },
    {
      "cell_type": "markdown",
      "source": [
        "9- What is type casting in Python?\n",
        "-   Type casting in python means converting one data type into another. it is used to change the type of a variable like from int to float , or str to int."
      ],
      "metadata": {
        "id": "VpkLLUcVpGix"
      }
    },
    {
      "cell_type": "markdown",
      "source": [
        "10 - What is the difference between implicit and explicit type casting?\n",
        "    \n",
        "\n",
        "*   Implicit casting - Python automatically convert data type during an operation. ex: x = 5 , y = 2.0 result = x +y # result become float (7.0) automatically.\n",
        "\n",
        "*  Explicit casting - We manually convert one data type to another using functions. ex: x= \"10\" , y = int(x) # manually converting str to int.\n",
        "\n"
      ],
      "metadata": {
        "id": "xDUyfhG_qNF-"
      }
    },
    {
      "cell_type": "markdown",
      "source": [
        "11-  What is the purpose of conditional statements in Python?\n",
        "-    The purpose of conditional statements is to make decisions in a program . they  allow the program to execute certain blocks of code only when specific conditions are true. This helps in controlling the flow of the program based on different inputs or situations .\n"
      ],
      "metadata": {
        "id": "gl7y9h0MtqLG"
      }
    },
    {
      "cell_type": "markdown",
      "source": [
        "12-  How does the elif statement work?\n",
        "-     The elif (short for \" else if\") statement in python is used to check multiple conditions one by one. it comes after an if statement and before an optional else statement. if the condition is false , python checks the elif condition . if it's true , the associated block of code runs. if none of the if or elif conditions are true , the else block runs.\n"
      ],
      "metadata": {
        "id": "DwL356Vt0ITF"
      }
    },
    {
      "cell_type": "markdown",
      "source": [
        "13- What is the difference between for and while loops?    \n",
        "\n",
        "*   For loops -  For loops is used when we know how many  times we want to repeat a block of code.\n",
        "*\n",
        "While loops - While loops is used when we want to repeat code as long as a condition is true, and we may not know how many times it will run.  \n",
        "\n",
        "\n"
      ],
      "metadata": {
        "id": "axARXQsY2nIF"
      }
    },
    {
      "cell_type": "markdown",
      "source": [
        "14- Describe a scenario where a while loop is more suitable than a for loop?\n",
        "-   A while loop is better when we don't know how many times the loop should run. for exmple, asking the user for a correct password until they enter the right one.\n",
        "ex: while password != \"admin123\":\n",
        "          password = input (\"Enter password: \")\n",
        "\n",
        "   Here , we don't kown how many attempts the user will take, so a while loop is more suitable than a for loop.       \n"
      ],
      "metadata": {
        "id": "z93fLHFl48e6"
      }
    },
    {
      "cell_type": "markdown",
      "source": [
        " **PRACTICAL QUESTIONS**"
      ],
      "metadata": {
        "id": "KCO1xSYW-hsG"
      }
    },
    {
      "cell_type": "code",
      "source": [
        "# Write a Python program to print \"Hello, World!\"\n",
        "print(\"Hello World !\")"
      ],
      "metadata": {
        "colab": {
          "base_uri": "https://localhost:8080/"
        },
        "id": "AS0dCfBP_Ldh",
        "outputId": "735b5ae8-2ce8-4389-863e-2e07506dd525"
      },
      "execution_count": null,
      "outputs": [
        {
          "output_type": "stream",
          "name": "stdout",
          "text": [
            "Hello World !\n"
          ]
        }
      ]
    },
    {
      "cell_type": "code",
      "source": [
        "# Write a Python program that displays your name and age.\n",
        "\n",
        "Name = \"vishakha Gupta\"\n",
        "Age = 27\n",
        "print(\"Name:\", Name)\n",
        "print(\"Age:\", Age)"
      ],
      "metadata": {
        "colab": {
          "base_uri": "https://localhost:8080/"
        },
        "id": "oZt41Elj_eYW",
        "outputId": "3f748bc3-07ac-4cc7-8d1f-1f0a01e98189"
      },
      "execution_count": null,
      "outputs": [
        {
          "output_type": "stream",
          "name": "stdout",
          "text": [
            "Name: vishakha Gupta\n",
            "Age: 27\n"
          ]
        }
      ]
    },
    {
      "cell_type": "code",
      "source": [
        "# Write code to print all the pre-defined keywords in Python using the keyword library.\n",
        "import keyword\n",
        "print(\"Python keyword are:\")\n",
        "print(keyword.kwlist)"
      ],
      "metadata": {
        "id": "3NkL0MAEAMpz",
        "colab": {
          "base_uri": "https://localhost:8080/"
        },
        "outputId": "15d55771-0d60-4a8a-df2a-fb0a1bdc98e3"
      },
      "execution_count": null,
      "outputs": [
        {
          "output_type": "stream",
          "name": "stdout",
          "text": [
            "Python keyword are:\n",
            "['False', 'None', 'True', 'and', 'as', 'assert', 'async', 'await', 'break', 'class', 'continue', 'def', 'del', 'elif', 'else', 'except', 'finally', 'for', 'from', 'global', 'if', 'import', 'in', 'is', 'lambda', 'nonlocal', 'not', 'or', 'pass', 'raise', 'return', 'try', 'while', 'with', 'yield']\n"
          ]
        }
      ]
    },
    {
      "cell_type": "code",
      "source": [
        "# Write a program that checks if a given word is a Python keyword.\n",
        "\n",
        "import keyword\n",
        "word = input(\"Enter a word: \")\n",
        "if keyword.iskeyword(word):\n",
        "  print(f\"{word} is a python keyword\")\n",
        "else:\n",
        "  print(f\"{word} is not a python keyword\")"
      ],
      "metadata": {
        "colab": {
          "base_uri": "https://localhost:8080/"
        },
        "id": "bioflNP6qMe1",
        "outputId": "69f464c6-5681-462f-fa8f-c6019a67df27"
      },
      "execution_count": null,
      "outputs": [
        {
          "output_type": "stream",
          "name": "stdout",
          "text": [
            "Enter a word: while\n",
            "while is a python keyword\n"
          ]
        }
      ]
    },
    {
      "cell_type": "code",
      "source": [
        "# Create a list and tuple in Python, and demonstrate how attempting to change an element works differently for each.\n",
        "\n",
        "\n",
        "my_list = [10,20,30,40]\n",
        "print(\"Original list: \", my_list)\n",
        "my_list[3] = 50\n",
        "print(\"Modified list: \", my_list)\n",
        "\n",
        "my_tuple = (10,20,30,40)\n",
        "print(\"Original tuple: \", my_tuple)\n",
        "# my_tuple[3] = 50 # This line caused the error\n",
        "print(\"Tuples are immutable and cannot be modified after creation.\")"
      ],
      "metadata": {
        "colab": {
          "base_uri": "https://localhost:8080/"
        },
        "id": "6hDDG4RUr8yU",
        "outputId": "c4e5118d-9fbd-48f5-dc7e-ec241dd356e3"
      },
      "execution_count": null,
      "outputs": [
        {
          "output_type": "stream",
          "name": "stdout",
          "text": [
            "Original list:  [10, 20, 30, 40]\n",
            "Modified list:  [10, 20, 30, 50]\n",
            "Original tuple:  (10, 20, 30, 40)\n",
            "Tuples are immutable and cannot be modified after creation.\n"
          ]
        }
      ]
    },
    {
      "cell_type": "code",
      "source": [
        "#Write a function to demonstrate the behavior of mutable and immutable arguments\n",
        "\n",
        "def modify_list(lst):\n",
        "    lst.append(\"ram\")\n",
        "\n",
        "def modify_number(num):\n",
        "    num += 20\n",
        "    return num\n",
        "\n",
        "my_list = [\"vishakha\",\"Rakhi\",\"Laxmi\"]\n",
        "my_num = 10\n",
        "\n",
        "modify_list(my_list)\n",
        "new_num = modify_number(my_num)\n",
        "\n",
        "print(\"Modified list (mutable):\", my_list)\n",
        "print(\"Original number (immutable):\", my_num)\n",
        "print(\"Returned new number:\", new_num)\n"
      ],
      "metadata": {
        "colab": {
          "base_uri": "https://localhost:8080/"
        },
        "id": "LnhHCDUXR-g_",
        "outputId": "6a4dc9eb-d7f0-46f4-c2f3-f3dc69d6a00f"
      },
      "execution_count": null,
      "outputs": [
        {
          "output_type": "stream",
          "name": "stdout",
          "text": [
            "Modified list (mutable): ['vishakha', 'Rakhi', 'Laxmi', 'ram']\n",
            "Original number (immutable): 10\n",
            "Returned new number: 30\n"
          ]
        }
      ]
    },
    {
      "cell_type": "code",
      "source": [
        "# Write a program that performs basic arithmetic operations on two user-input numbers.\n",
        "\n",
        "x = float(input(\"Enter first number: \"))\n",
        "y = float(input(\"Enter second number: \"))\n",
        "\n",
        "print(\"Addition :\", x+y)\n",
        "print(\"Subtration :\", x-y)\n",
        "print(\"Multiplication :\", x*y)\n",
        "print(\"Division :\", x/y)\n"
      ],
      "metadata": {
        "colab": {
          "base_uri": "https://localhost:8080/"
        },
        "id": "zfj3GMQFyMp2",
        "outputId": "9d89d07f-5183-4e20-a9cc-a0fb46c7506b"
      },
      "execution_count": null,
      "outputs": [
        {
          "output_type": "stream",
          "name": "stdout",
          "text": [
            "Enter first number: 30\n",
            "Enter second number: 20\n",
            "Addition : 50.0\n",
            "Subtration : 10.0\n",
            "Multiplication : 600.0\n",
            "Division : 1.5\n"
          ]
        }
      ]
    },
    {
      "cell_type": "code",
      "source": [
        "#  Write a program to demonstrate the use of logical operators.\n",
        "\n",
        "a = int(input(\"Enter first number: \"))\n",
        "b = int(input(\"Enter second number: \"))\n",
        "\n",
        "print(\"Logical AND :\", a > 10 and b <20)\n",
        "print(\"Logical OR :\", a > 10 or b < 20)\n",
        "print(\"Logical NOT :\", not(a >10))"
      ],
      "metadata": {
        "colab": {
          "base_uri": "https://localhost:8080/"
        },
        "id": "cIFx1Hye313h",
        "outputId": "3ee856be-0b2f-4048-ed25-778713ddf925"
      },
      "execution_count": null,
      "outputs": [
        {
          "output_type": "stream",
          "name": "stdout",
          "text": [
            "Enter first number: 12\n",
            "Enter second number: 20\n",
            "Logical AND : False\n",
            "Logical OR : True\n",
            "Logical NOT : False\n"
          ]
        }
      ]
    },
    {
      "cell_type": "code",
      "source": [
        "# Write a Python program to convert user input from string to integer, float, and boolean types.\n",
        "\n",
        "user_input = input(\"Enter a value: \")\n",
        "\n",
        "int_value = int(user_input)\n",
        "print(\"Integer value :\", int_value)\n",
        "\n",
        "float_value = float(user_input)\n",
        "print(\"Float value :\", float_value)\n",
        "\n",
        "bool_value = bool(user_input)\n",
        "print(\"Boolean value :\", bool_value)"
      ],
      "metadata": {
        "colab": {
          "base_uri": "https://localhost:8080/"
        },
        "id": "CIGPjzRo6bsu",
        "outputId": "c82470f0-1599-4ece-821a-854c25d9382a"
      },
      "execution_count": null,
      "outputs": [
        {
          "output_type": "stream",
          "name": "stdout",
          "text": [
            "Enter a value: 356\n",
            "Integer value : 356\n",
            "Float value : 356.0\n",
            "Boolean value : True\n"
          ]
        }
      ]
    },
    {
      "cell_type": "code",
      "source": [
        "#  Write code to demonstrate type casting with list elements.\n",
        "\n",
        "str_list = [\"20\",\"40\",\"60\",\"80\"]\n",
        "int_list = [int(x) for x in str_list]\n",
        "float_list =[float(x) for x in str_list]\n",
        "\n",
        "print(\"Original list :\", str_list)\n",
        "print(\"Integers list :\", int_list)\n",
        "print(\"Float list :\", float_list)"
      ],
      "metadata": {
        "colab": {
          "base_uri": "https://localhost:8080/"
        },
        "id": "Te1gLzCY8PUV",
        "outputId": "ea2d4dac-46b0-4404-a218-cb50875e16a3"
      },
      "execution_count": null,
      "outputs": [
        {
          "output_type": "stream",
          "name": "stdout",
          "text": [
            "Original list : ['20', '40', '60', '80']\n",
            "Integers list : [20, 40, 60, 80]\n",
            "Float list : [20.0, 40.0, 60.0, 80.0]\n"
          ]
        }
      ]
    },
    {
      "cell_type": "code",
      "source": [
        "# Write a program that checks if a number is positive, negative, or zero.\n",
        "\n",
        "num = float(input(\"Enter a number: \"))\n",
        "\n",
        "if num > 0:\n",
        "  print(\"Positive number\")\n",
        "elif num < 0:\n",
        "  print(\"Negative number\")\n",
        "else:\n",
        "  print(\"Zero number\")"
      ],
      "metadata": {
        "id": "0Y5SU4RPDYK0",
        "colab": {
          "base_uri": "https://localhost:8080/"
        },
        "outputId": "2c6cecbb-0d5b-4b5f-e67f-9fe6af216577"
      },
      "execution_count": 1,
      "outputs": [
        {
          "output_type": "stream",
          "name": "stdout",
          "text": [
            "Enter a number: -35\n",
            "Negative number\n"
          ]
        }
      ]
    },
    {
      "cell_type": "code",
      "source": [
        "# Write a for loop to print numbers from 1 to 10.\n",
        "\n",
        "for i in range(1,11):\n",
        "  print(i)\n"
      ],
      "metadata": {
        "colab": {
          "base_uri": "https://localhost:8080/"
        },
        "id": "QgOw7l23fFqU",
        "outputId": "e1d31eed-6691-4bb0-fb39-0081af75f7e6"
      },
      "execution_count": 3,
      "outputs": [
        {
          "output_type": "stream",
          "name": "stdout",
          "text": [
            "1\n",
            "2\n",
            "3\n",
            "4\n",
            "5\n",
            "6\n",
            "7\n",
            "8\n",
            "9\n",
            "10\n"
          ]
        }
      ]
    },
    {
      "cell_type": "code",
      "source": [
        "#  Write a Python program to find the sum of all even numbers between 1 and 50.\n",
        "\n",
        "total = 0\n",
        "\n",
        "for num in range(2,51,2):\n",
        "  total += num\n",
        "print(\"sum of even numbers from 1 to 50 is:\", total)"
      ],
      "metadata": {
        "colab": {
          "base_uri": "https://localhost:8080/"
        },
        "id": "6IZ6s3W3ff8H",
        "outputId": "ecd931af-4f71-41b4-c08c-a883da1783a5"
      },
      "execution_count": 8,
      "outputs": [
        {
          "output_type": "stream",
          "name": "stdout",
          "text": [
            "sum of even numbers from 1 to 50 is: 650\n"
          ]
        }
      ]
    },
    {
      "cell_type": "code",
      "source": [
        "#  Write a program to reverse a string using a while loop.\n",
        "\n",
        "text = input(\"Enter a string: \")\n",
        "reversed_text = \"\"\n",
        "index = len(text) - 1\n",
        "\n",
        "while index >= 0:\n",
        "  reversed_text += text[index]\n",
        "  index -=1\n",
        "\n",
        "print(\"Reversed string: \", reversed_text)"
      ],
      "metadata": {
        "colab": {
          "base_uri": "https://localhost:8080/"
        },
        "id": "PdzB6MvAgyWd",
        "outputId": "47c62a6c-a33f-4975-fa99-8cd1f916339e"
      },
      "execution_count": 10,
      "outputs": [
        {
          "output_type": "stream",
          "name": "stdout",
          "text": [
            "Enter a string: vishakha gupta\n",
            "Reversed string:  atpug ahkahsiv\n"
          ]
        }
      ]
    },
    {
      "cell_type": "code",
      "source": [
        "# Write a Python program to calculate the factorial of a number provided by the user using a while loop.\n",
        "\n",
        "x = int(input(\"Enter a number: \"))\n",
        "factorial = 1\n",
        "i = 1\n",
        "while i <= x:\n",
        "  factorial *= i\n",
        "  i += 1\n",
        "print(f\"Factorial of {x} is {factorial}\")"
      ],
      "metadata": {
        "colab": {
          "base_uri": "https://localhost:8080/"
        },
        "id": "FJ4Z128GjiUk",
        "outputId": "a3fe6899-d01c-4959-8b67-8e18cf1a2f7a"
      },
      "execution_count": 13,
      "outputs": [
        {
          "output_type": "stream",
          "name": "stdout",
          "text": [
            "Enter a number: 7\n",
            "Factorial of 7 is 5040\n"
          ]
        }
      ]
    },
    {
      "cell_type": "code",
      "source": [],
      "metadata": {
        "id": "tagkyEIdlJ-G"
      },
      "execution_count": null,
      "outputs": []
    }
  ]
}